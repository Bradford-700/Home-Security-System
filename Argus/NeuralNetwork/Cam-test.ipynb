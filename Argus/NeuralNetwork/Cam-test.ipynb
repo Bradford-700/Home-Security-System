{
 "cells": [
  {
   "cell_type": "markdown",
   "metadata": {
    "collapsed": true,
    "pycharm": {
     "name": "#%% md\n"
    }
   },
   "source": [
    "Testing camera input\n"
   ]
  },
  {
   "cell_type": "code",
   "source": [
    "import cv2 as c\n",
    "from mtcnn.mtcnn import MTCNN\n",
    "import numpy as np\n",
    "import tensorflow as tf\n",
    "from scipy.spatial.distance import cosine\n",
    "from keras_vggface.vggface import VGGFace\n",
    "from keras_vggface.utils import preprocess_input\n",
    "import os"
   ],
   "metadata": {
    "collapsed": false,
    "pycharm": {
     "name": "#%%\n"
    }
   },
   "execution_count": 6,
   "outputs": []
  },
  {
   "cell_type": "markdown",
   "source": [
    "Only if RTX card\n"
   ],
   "metadata": {
    "collapsed": false,
    "pycharm": {
     "name": "#%% md\n"
    }
   }
  },
  {
   "cell_type": "code",
   "execution_count": 2,
   "outputs": [],
   "source": [
    "phys = tf.config.experimental.list_physical_devices('GPU')\n",
    "tf.config.experimental.set_memory_growth(phys[0],True)"
   ],
   "metadata": {
    "collapsed": false,
    "pycharm": {
     "name": "#%%\n"
    }
   }
  },
  {
   "cell_type": "code",
   "execution_count": 7,
   "outputs": [],
   "source": [
    "mod_name = 'senet50'\n",
    "path_features = './models/'\n",
    "threshold = 0.5\n",
    "\n",
    "face_d = MTCNN()\n",
    "face_r = VGGFace(include_top=False, model=mod_name, input_shape=(224,224,3), pooling='avg')\n"
   ],
   "metadata": {
    "collapsed": false,
    "pycharm": {
     "name": "#%%\n"
    }
   }
  },
  {
   "cell_type": "code",
   "execution_count": 8,
   "outputs": [],
   "source": [
    "def load_faces(path):\n",
    "    feats = list()\n",
    "    for root, folder, files in os.walk(path, topdown=False):\n",
    "        for file in files:\n",
    "            f_feat = list()\n",
    "            f_feat.append(str(os.path.splitext(file)[0]))\n",
    "            f_feat.append(np.load(os.path.join(root,file)))\n",
    "            feats.append(f_feat)\n",
    "\n",
    "    return np.asarray(feats)\n",
    "\n",
    "def save_face(path, image, f_d, f_r):\n",
    "    face_image = c.imread(image)\n",
    "    image_pixels = np.asarray(face_image)\n",
    "    face_box = f_d.detect_faces(image_pixels)\n",
    "\n",
    "    if len(face_box) == 0:\n",
    "        print(\"No faces detected.\")\n",
    "    elif len(face_box) > 1:\n",
    "        print(\"More than one face detected.\")\n",
    "    else:\n",
    "        f_x1, f_y1, f_w, f_h = face_box[0]['box']\n",
    "        face_pixels = image_pixels[f_y1:(f_y1+f_h),f_x1:(f_x1+f_w)]\n",
    "        face_pixels = c.resize(face_pixels, (224,224), interpolation=c.INTER_AREA)\n",
    "        buff = list()\n",
    "        if mod_name == 'vgg16':\n",
    "            face_pixels = preprocess_input(np.asarray(face_pixels).astype('float64'))\n",
    "        else:\n",
    "            face_pixels = preprocess_input(np.asarray(face_pixels).astype('float64'), version=2)\n",
    "        buff.append(face_pixels)\n",
    "        buff = np.asarray(buff)\n",
    "        feat = f_r.predict(buff)\n",
    "        np.save(path,feat)\n",
    "\n"
   ],
   "metadata": {
    "collapsed": false,
    "pycharm": {
     "name": "#%%\n"
    }
   }
  },
  {
   "cell_type": "code",
   "execution_count": 4,
   "outputs": [],
   "source": [
    "vc = c.VideoCapture(0)\n",
    "\n",
    "f = False\n",
    "\n",
    "all_f_features = load_faces(path_features)\n",
    "\n",
    "if vc.isOpened():\n",
    "    c.namedWindow(\"view\")\n",
    "    f, frame = vc.read()\n",
    "    f_count = 0\n",
    "    while f:\n",
    "        pix = np.asarray(frame)\n",
    "        faces = face_d.detect_faces(pix)\n",
    "        face_pix = list()\n",
    "\n",
    "        for face in faces:\n",
    "            x1, y1, width, height = face['box']\n",
    "            x1, y1 = abs(x1), abs(y1)\n",
    "            x2, y2 = x1 + width, y1 + height\n",
    "            start = (x1,y1)\n",
    "            end = (x2,y2)\n",
    "            face_pix.append(pix[y1:y2, x1:x2])\n",
    "            frame = c.rectangle(frame,start,end,(0,0,255),1)\n",
    "\n",
    "\n",
    "        count = 0\n",
    "        inp_features = list()\n",
    "        for face in face_pix:\n",
    "            face = c.resize(face, (224,224), interpolation=c.INTER_AREA)\n",
    "            if mod_name == 'vgg16':\n",
    "                inp_features.append(preprocess_input(np.asarray(face).astype('float64')))\n",
    "            else:\n",
    "                inp_features.append(preprocess_input(np.asarray(face).astype('float64'), version=2))\n",
    "            c.imwrite('./data/test'+str(f_count)+'_'+str(count)+'.jpg',face)\n",
    "            count += 1\n",
    "\n",
    "        inp_features = np.asarray(inp_features)\n",
    "\n",
    "        if len(inp_features) > 0:\n",
    "            features = face_r.predict(inp_features)\n",
    "            for face in features:\n",
    "                min_match = 1.0\n",
    "                f_name = 'Unknown'\n",
    "                for feat in all_f_features:\n",
    "                    match = cosine(face,feat[1])\n",
    "                    if match <= threshold:\n",
    "                        if match < min_match:\n",
    "                            min_match = match\n",
    "                            f_name = feat[0]\n",
    "\n",
    "                frame = c.putText(frame,f_name, (0,20), c.FONT_HERSHEY_DUPLEX, 1, (0,0,255), thickness=2)\n",
    "\n",
    "        c.imshow(\"view\",frame)\n",
    "        f_count += 1\n",
    "        f, frame = vc.read()\n",
    "        key = c.waitKey(5)\n",
    "        if key == 27:\n",
    "            vc.release()\n",
    "            c.destroyWindow(\"view\")\n",
    "            break\n",
    "\n"
   ],
   "metadata": {
    "collapsed": false,
    "pycharm": {
     "name": "#%%\n"
    }
   }
  },
  {
   "cell_type": "code",
   "execution_count": 9,
   "outputs": [],
   "source": [
    "save_face('./models/black/1.npy', './data/test.jpg', face_d, face_r)"
   ],
   "metadata": {
    "collapsed": false,
    "pycharm": {
     "name": "#%%\n"
    }
   }
  },
  {
   "cell_type": "code",
   "execution_count": null,
   "outputs": [],
   "source": [
    "import os\n",
    "\n",
    "for root, folder, files in os.walk('./models/', topdown=False):\n",
    "        for file in files:\n",
    "            print(str(file))\n"
   ],
   "metadata": {
    "collapsed": false,
    "pycharm": {
     "name": "#%%\n"
    }
   }
  }
 ],
 "metadata": {
  "kernelspec": {
   "display_name": "Python 3",
   "language": "python",
   "name": "python3"
  },
  "language_info": {
   "codemirror_mode": {
    "name": "ipython",
    "version": 2
   },
   "file_extension": ".py",
   "mimetype": "text/x-python",
   "name": "python",
   "nbconvert_exporter": "python",
   "pygments_lexer": "ipython2",
   "version": "2.7.6"
  }
 },
 "nbformat": 4,
 "nbformat_minor": 0
}