{
 "cells": [
  {
   "cell_type": "markdown",
   "metadata": {
    "collapsed": true,
    "pycharm": {
     "name": "#%% md\n"
    }
   },
   "source": [
    "Testing camera input\n"
   ]
  },
  {
   "cell_type": "code",
   "source": [
    "import cv2 as c\n",
    "from mtcnn.mtcnn import MTCNN\n",
    "import numpy as np\n",
    "import tensorflow as tf\n",
    "from scipy.spatial.distance import cosine\n",
    "from keras_vggface.vggface import VGGFace\n",
    "from keras_vggface.utils import preprocess_input"
   ],
   "metadata": {
    "collapsed": false,
    "pycharm": {
     "name": "#%%\n"
    }
   },
   "execution_count": 1,
   "outputs": []
  },
  {
   "cell_type": "markdown",
   "source": [
    "Only if RTX card\n"
   ],
   "metadata": {
    "collapsed": false,
    "pycharm": {
     "name": "#%% md\n"
    }
   }
  },
  {
   "cell_type": "code",
   "execution_count": 2,
   "outputs": [],
   "source": [
    "phys = tf.config.experimental.list_physical_devices('GPU')\n",
    "tf.config.experimental.set_memory_growth(phys[0],True)\n"
   ],
   "metadata": {
    "collapsed": false,
    "pycharm": {
     "name": "#%%\n"
    }
   }
  },
  {
   "cell_type": "code",
   "execution_count": 10,
   "outputs": [
    {
     "name": "stdout",
     "output_type": "stream",
     "text": [
      "WARNING:tensorflow:5 out of the last 5 calls to <function Model.make_predict_function.<locals>.predict_function at 0x000001F279B87C18> triggered tf.function retracing. Tracing is expensive and the excessive number of tracings is likely due to passing python objects instead of tensors. Also, tf.function has experimental_relax_shapes=True option that relaxes argument shapes that can avoid unnecessary retracing. Please refer to https://www.tensorflow.org/tutorials/customization/performance#python_or_tensor_args and https://www.tensorflow.org/api_docs/python/tf/function for more details.\n",
      "WARNING:tensorflow:6 out of the last 6 calls to <function Model.make_predict_function.<locals>.predict_function at 0x000001F279B87C18> triggered tf.function retracing. Tracing is expensive and the excessive number of tracings is likely due to passing python objects instead of tensors. Also, tf.function has experimental_relax_shapes=True option that relaxes argument shapes that can avoid unnecessary retracing. Please refer to https://www.tensorflow.org/tutorials/customization/performance#python_or_tensor_args and https://www.tensorflow.org/api_docs/python/tf/function for more details.\n",
      "WARNING:tensorflow:7 out of the last 7 calls to <function Model.make_predict_function.<locals>.predict_function at 0x000001F279B87C18> triggered tf.function retracing. Tracing is expensive and the excessive number of tracings is likely due to passing python objects instead of tensors. Also, tf.function has experimental_relax_shapes=True option that relaxes argument shapes that can avoid unnecessary retracing. Please refer to https://www.tensorflow.org/tutorials/customization/performance#python_or_tensor_args and https://www.tensorflow.org/api_docs/python/tf/function for more details.\n",
      "WARNING:tensorflow:8 out of the last 8 calls to <function Model.make_predict_function.<locals>.predict_function at 0x000001F279B87C18> triggered tf.function retracing. Tracing is expensive and the excessive number of tracings is likely due to passing python objects instead of tensors. Also, tf.function has experimental_relax_shapes=True option that relaxes argument shapes that can avoid unnecessary retracing. Please refer to https://www.tensorflow.org/tutorials/customization/performance#python_or_tensor_args and https://www.tensorflow.org/api_docs/python/tf/function for more details.\n",
      "WARNING:tensorflow:9 out of the last 9 calls to <function Model.make_predict_function.<locals>.predict_function at 0x000001F279B87C18> triggered tf.function retracing. Tracing is expensive and the excessive number of tracings is likely due to passing python objects instead of tensors. Also, tf.function has experimental_relax_shapes=True option that relaxes argument shapes that can avoid unnecessary retracing. Please refer to https://www.tensorflow.org/tutorials/customization/performance#python_or_tensor_args and https://www.tensorflow.org/api_docs/python/tf/function for more details.\n",
      "WARNING:tensorflow:10 out of the last 10 calls to <function Model.make_predict_function.<locals>.predict_function at 0x000001F279B87C18> triggered tf.function retracing. Tracing is expensive and the excessive number of tracings is likely due to passing python objects instead of tensors. Also, tf.function has experimental_relax_shapes=True option that relaxes argument shapes that can avoid unnecessary retracing. Please refer to https://www.tensorflow.org/tutorials/customization/performance#python_or_tensor_args and https://www.tensorflow.org/api_docs/python/tf/function for more details.\n",
      "[[2.3828393e-02 4.6757981e-02 4.9419183e-02 ... 2.2229434e-03\n",
      "  5.9891667e+00 7.4205868e-02]]\n",
      "[[ 0.04550884  2.0849369   0.30369848 ...  0.01077637 10.078525\n",
      "   0.04896839]]\n",
      "[[0.04477264 0.9749889  0.5337436  ... 0.26893255 9.779438   0.05025182]]\n",
      "[[ 0.04302651  2.0908766   0.4335049  ...  0.05871406 14.431076\n",
      "   0.04748097]]\n",
      "[[ 0.04116829  7.7305746   0.37873447 ...  0.01848643 14.775079\n",
      "   0.04654349]]\n",
      "[[ 0.04506614  9.726044    0.1795184  ...  0.03384791 16.090002\n",
      "   0.0515501 ]]\n"
     ]
    }
   ],
   "source": [
    "vc = c.VideoCapture(0)\n",
    "\n",
    "f = False\n",
    "\n",
    "mod_name = 'senet50'\n",
    "\n",
    "if vc.isOpened():\n",
    "    face_d = MTCNN()\n",
    "    face_r = VGGFace(include_top=False, model=mod_name, input_shape=(224,224,3), pooling='avg')\n",
    "    c.namedWindow(\"view\")\n",
    "    f, frame = vc.read()\n",
    "    f_count = 0\n",
    "    while f:\n",
    "        pix = np.asarray(frame)\n",
    "        faces = face_d.detect_faces(pix)\n",
    "        face_pix = list()\n",
    "\n",
    "        for face in faces:\n",
    "            x1, y1, width, height = face['box']\n",
    "            x1, y1 = abs(x1), abs(y1)\n",
    "            x2, y2 = x1 + width, y1 + height\n",
    "            start = (x1,y1)\n",
    "            end = (x2,y2)\n",
    "            face_pix.append(pix[y1:y2, x1:x2])\n",
    "            frame = c.rectangle(frame,start,end,(0,0,255),1)\n",
    "\n",
    "\n",
    "        count = 0\n",
    "        inp_features = list()\n",
    "        for face in face_pix:\n",
    "            face = c.resize(face, (224,224), interpolation=c.INTER_AREA)\n",
    "            if mod_name == 'vgg16':\n",
    "                inp_features.append(preprocess_input(np.asarray(face).astype('float64')))\n",
    "            else:\n",
    "                inp_features.append(preprocess_input(np.asarray(face).astype('float64'), version=2))\n",
    "            c.imwrite('../data/test'+str(f_count)+'_'+str(count)+'.jpg',face)\n",
    "            count += 1\n",
    "\n",
    "        inp_features = np.asarray(inp_features)\n",
    "\n",
    "        if len(inp_features) > 0:\n",
    "            features = face_r.predict(inp_features)\n",
    "            print(features)\n",
    "\n",
    "        c.imshow(\"view\",frame)\n",
    "        f_count += 1\n",
    "        f, frame = vc.read()\n",
    "        key = c.waitKey(5)\n",
    "        if key == 27:\n",
    "            vc.release()\n",
    "            c.destroyWindow(\"view\")\n",
    "            break\n"
   ],
   "metadata": {
    "collapsed": false,
    "pycharm": {
     "name": "#%%\n"
    }
   }
  },
  {
   "cell_type": "code",
   "execution_count": 4,
   "outputs": [],
   "source": [
    "\n"
   ],
   "metadata": {
    "collapsed": false,
    "pycharm": {
     "name": "#%%\n"
    }
   }
  }
 ],
 "metadata": {
  "kernelspec": {
   "display_name": "Python 3",
   "language": "python",
   "name": "python3"
  },
  "language_info": {
   "codemirror_mode": {
    "name": "ipython",
    "version": 2
   },
   "file_extension": ".py",
   "mimetype": "text/x-python",
   "name": "python",
   "nbconvert_exporter": "python",
   "pygments_lexer": "ipython2",
   "version": "2.7.6"
  }
 },
 "nbformat": 4,
 "nbformat_minor": 0
}