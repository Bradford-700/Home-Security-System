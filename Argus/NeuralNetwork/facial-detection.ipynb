{
 "cells": [
  {
   "cell_type": "code",
   "execution_count": 1,
   "metadata": {
    "collapsed": true,
    "pycharm": {
     "name": "#%%\n"
    }
   },
   "outputs": [],
   "source": [
    "import cv2\n",
    "import numpy as np\n",
    "import os"
   ]
  },
  {
   "cell_type": "code",
   "execution_count": 2,
   "outputs": [],
   "source": [
    "#https://github.com/Itseez/opencv/tree/master/data/haarcascades\n",
    "face_cascade = cv2.CascadeClassifier('haarcascade_frontalface_default.xml')\n",
    "#eye_cascade = cv2.CascadeClassifier('haarcascade_eye.xml')\n",
    "#profile_cascade = cv2.CascadeClassifier('haarcascade_profileface.xml')\n",
    "\n",
    "cap = cv2.VideoCapture(0)\n",
    "#writer = cv2.VideoWriter_fourcc(*'XVID')\n",
    "#out = cv2.VideoWriter('output.avi',writer, 20.0, (640,480))\n",
    "pic_num = 1"
   ],
   "metadata": {
    "collapsed": false,
    "pycharm": {
     "name": "#%%\n"
    }
   }
  },
  {
   "cell_type": "code",
   "execution_count": 3,
   "outputs": [],
   "source": [
    "if not os.path.exists('images'):\n",
    "\t\tos.makedirs('images')"
   ],
   "metadata": {
    "collapsed": false,
    "pycharm": {
     "name": "#%%\n"
    }
   }
  },
  {
   "cell_type": "code",
   "execution_count": 5,
   "outputs": [
    {
     "ename": "error",
     "evalue": "OpenCV(4.3.0) C:\\projects\\opencv-python\\opencv\\modules\\objdetect\\src\\cascadedetect.cpp:1689: error: (-215:Assertion failed) !empty() in function 'cv::CascadeClassifier::detectMultiScale'\n",
     "output_type": "error",
     "traceback": [
      "\u001B[1;31m---------------------------------------------------------------------------\u001B[0m",
      "\u001B[1;31merror\u001B[0m                                     Traceback (most recent call last)",
      "\u001B[1;32m<ipython-input-5-0504dd4261a3>\u001B[0m in \u001B[0;36m<module>\u001B[1;34m\u001B[0m\n\u001B[0;32m      3\u001B[0m         \u001B[0mgrey\u001B[0m \u001B[1;33m=\u001B[0m \u001B[0mcv2\u001B[0m\u001B[1;33m.\u001B[0m\u001B[0mcvtColor\u001B[0m\u001B[1;33m(\u001B[0m\u001B[0mframe\u001B[0m\u001B[1;33m,\u001B[0m \u001B[0mcv2\u001B[0m\u001B[1;33m.\u001B[0m\u001B[0mCOLOR_BGR2GRAY\u001B[0m\u001B[1;33m)\u001B[0m\u001B[1;33m\u001B[0m\u001B[1;33m\u001B[0m\u001B[0m\n\u001B[0;32m      4\u001B[0m         \u001B[1;31m#scaleFactor=1.5, minNeighbors=5\u001B[0m\u001B[1;33m\u001B[0m\u001B[1;33m\u001B[0m\u001B[1;33m\u001B[0m\u001B[0m\n\u001B[1;32m----> 5\u001B[1;33m         \u001B[0mfaces\u001B[0m \u001B[1;33m=\u001B[0m \u001B[0mface_cascade\u001B[0m\u001B[1;33m.\u001B[0m\u001B[0mdetectMultiScale\u001B[0m\u001B[1;33m(\u001B[0m\u001B[0mgrey\u001B[0m\u001B[1;33m,\u001B[0m \u001B[1;36m1.5\u001B[0m\u001B[1;33m,\u001B[0m \u001B[1;36m5\u001B[0m\u001B[1;33m)\u001B[0m\u001B[1;33m\u001B[0m\u001B[1;33m\u001B[0m\u001B[0m\n\u001B[0m\u001B[0;32m      6\u001B[0m         \u001B[1;32mfor\u001B[0m\u001B[1;33m(\u001B[0m\u001B[0mx\u001B[0m\u001B[1;33m,\u001B[0m\u001B[0my\u001B[0m\u001B[1;33m,\u001B[0m\u001B[0mw\u001B[0m\u001B[1;33m,\u001B[0m\u001B[0mh\u001B[0m\u001B[1;33m)\u001B[0m \u001B[1;32min\u001B[0m \u001B[0mfaces\u001B[0m\u001B[1;33m:\u001B[0m\u001B[1;33m\u001B[0m\u001B[1;33m\u001B[0m\u001B[0m\n\u001B[0;32m      7\u001B[0m                 \u001B[1;32mtry\u001B[0m\u001B[1;33m:\u001B[0m\u001B[1;33m\u001B[0m\u001B[1;33m\u001B[0m\u001B[0m\n",
      "\u001B[1;31merror\u001B[0m: OpenCV(4.3.0) C:\\projects\\opencv-python\\opencv\\modules\\objdetect\\src\\cascadedetect.cpp:1689: error: (-215:Assertion failed) !empty() in function 'cv::CascadeClassifier::detectMultiScale'\n"
     ]
    }
   ],
   "source": [
    "while(True):\n",
    "\tret, frame = cap.read()\n",
    "\tgrey = cv2.cvtColor(frame, cv2.COLOR_BGR2GRAY)\n",
    "\t#scaleFactor=1.5, minNeighbors=5\n",
    "\tfaces = face_cascade.detectMultiScale(grey, 1.5, 5)\n",
    "\tfor(x,y,w,h) in faces:\n",
    "\t\ttry:\n",
    "\t\t\t#see face detection\n",
    "\t\t\tprint(x,y,w,h)\n",
    "\n",
    "\t\t\t#BGR_Colour = (255,0,0), stroke = 2\n",
    "\t\t\tcv2.rectangle(frame,(x,y),(x+w,y+h),(255,0,0),2)\n",
    "\n",
    "\t\t\t#define roi color\n",
    "\t\t\troi_grey = grey[y:y+h, x:x+w]\n",
    "\t\t\troi_color = frame[y:y+h, x:x+w]\n",
    "\n",
    "\t\t\t#eyes = eye_cascade.detectMultiScale(roi_grey)\n",
    "\t\t\t#for (ex,ey,ew,eh) in eyes:\n",
    "\t\t\t\t#cv2.rectangle(roi_color,(ex,ey),(ex+ew,ey+eh),(0,255,0),2)\n",
    "\n",
    "\t\t\t#save image\n",
    "\t\t\timg = str(pic_num)+\".jpg\"\n",
    "\t\t\tcv2.imwrite(\"images/\"+img,roi_grey)\n",
    "\t\t\t#read image\n",
    "\t\t\tread_image = cv2.imread(\"images/\"+img,cv2.IMREAD_GRAYSCALE)\n",
    "\t\t\t#resize the image to 100x100\n",
    "\t\t\tresized_image = cv2.resize(read_image, (100, 100))\n",
    "\t\t\t#save image again\n",
    "\t\t\tcv2.imwrite(\"images/\"+img,resized_image)\n",
    "\t\t\tpic_num += 1\n",
    "\n",
    "\t\texcept Exception as e:\n",
    "\t\t\tprint(str(e))\n",
    "\n",
    "\t#record video\n",
    "\t#out.write(grey)\n",
    "\t#out.write(frame)\n",
    "\n",
    "\t#display frames\n",
    "\t#cv2.imshow('frame', grey)\n",
    "\tcv2.imshow('frame', frame)\n",
    "\n",
    "\tif cv2.waitKey(5) & 0xFF == ord('q'):\n",
    "\t\tbreak"
   ],
   "metadata": {
    "collapsed": false,
    "pycharm": {
     "name": "#%%\n"
    }
   }
  },
  {
   "cell_type": "code",
   "execution_count": null,
   "outputs": [],
   "source": [
    "cap.release()\n",
    "#out.release()\n",
    "cv2.destroyAllWindows()\n"
   ],
   "metadata": {
    "collapsed": false,
    "pycharm": {
     "name": "#%%\n"
    }
   }
  }
 ],
 "metadata": {
  "kernelspec": {
   "display_name": "Python 3",
   "language": "python",
   "name": "python3"
  },
  "language_info": {
   "codemirror_mode": {
    "name": "ipython",
    "version": 2
   },
   "file_extension": ".py",
   "mimetype": "text/x-python",
   "name": "python",
   "nbconvert_exporter": "python",
   "pygments_lexer": "ipython2",
   "version": "2.7.6"
  }
 },
 "nbformat": 4,
 "nbformat_minor": 0
}